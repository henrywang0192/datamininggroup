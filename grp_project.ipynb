{
 "cells": [
  {
   "cell_type": "markdown",
   "metadata": {},
   "source": [
    "Enter name(s) here: Andrew Vuong, Henry Wang, Aaron Johnson"
   ]
  },
  {
   "cell_type": "markdown",
   "metadata": {},
   "source": [
    "# Group Project\n",
    " \n",
    "The project aims to create a classification model to classify whether the person has cervical cancer or not based on a collection of data from a cohort study of cervical cytology with or without HPV mRNA biomarkers examined to detect cervical intraepithelial Neoplasia in young Norwegian women. There are two diagnostic test to determine the presence of cervical cancer, through a cervical cytology (pap smear) or an HPV mRNA DNA test. The problem is important to determine whether HPV mRNA biomarkers are significant enough to influence positively the sensitivity of cervical cancer screening. Needless to say, early detection is key to high survival rate in cancer patients and having a higher sensitivity would result in less false negatives. The model could be trained to predict whether the patient has cervical cancer given a set of features such as HPV mRNA biomarkers (SEE_01, SEE_16, SEE_18, and SEE_45) and the types of diagnostic study exam.\n",
    "\n",
    "**FULL DISCLOSURE Based the Project's network on, our, Andrew Vuong and Henry's Solution for Professor Beasley's HW3**"
   ]
  },
  {
   "cell_type": "code",
   "execution_count": 24,
   "metadata": {},
   "outputs": [],
   "source": [
    "#You may add additional imports\n",
    "import warnings\n",
    "#warnings.simplefilter(\"ignore\")\n",
    "import pandas as pd\n",
    "import numpy as np\n",
    "import sklearn as sk\n",
    "import matplotlib.pyplot as plt\n",
    "import time\n",
    "import random"
   ]
  },
  {
   "cell_type": "code",
   "execution_count": 25,
   "metadata": {},
   "outputs": [],
   "source": [
    "%matplotlib inline"
   ]
  },
  {
   "cell_type": "markdown",
   "metadata": {},
   "source": [
    "### Data Prep - Fill missing value using a generated distribution based on similiar non missing values"
   ]
  },
  {
   "cell_type": "code",
   "execution_count": 26,
   "metadata": {
    "scrolled": true
   },
   "outputs": [
    {
     "name": "stdout",
     "output_type": "stream",
     "text": [
      "                                                Age    SEE_01    SEE_16  \\\n",
      "study_gr study_gr1 Diag_cyt Diag_cyt_rev                                  \n",
      "1        1         -1       -1            29.500000       NaN       NaN   \n",
      "                    0        0            31.565652  0.000000  0.000000   \n",
      "2        2          0        0            31.639831  0.000000  0.000000   \n",
      "         3          0        1            29.166667  1.000000  0.791667   \n",
      "                             2            29.000000  1.000000  1.000000   \n",
      "                             4            28.500000  1.000000  0.500000   \n",
      "                             5            39.000000  1.000000  0.000000   \n",
      "3        4          1        1            29.870270  0.248322  0.127517   \n",
      "                    2        2            29.109756  0.484848  0.212121   \n",
      "4        5          3        3            31.085714  0.909091  0.818182   \n",
      "                    4        4            29.375000  0.933333  0.733333   \n",
      "                    5        5            35.000000       NaN       NaN   \n",
      "                    6        6            30.000000       NaN       NaN   \n",
      "\n",
      "                                            SEE_18    SEE_45  Ind_biop  \\\n",
      "study_gr study_gr1 Diag_cyt Diag_cyt_rev                                 \n",
      "1        1         -1       -1                 NaN       NaN  0.500000   \n",
      "                    0        0            0.000000  0.000000  0.035431   \n",
      "2        2          0        0            0.000000  0.000000  0.024011   \n",
      "         3          0        1            0.250000  0.041667  0.666667   \n",
      "                             2            0.000000  0.000000  1.000000   \n",
      "                             4            0.500000  0.000000  1.000000   \n",
      "                             5            1.000000  0.000000  1.000000   \n",
      "3        4          1        1            0.120805  0.013423  0.335135   \n",
      "                    2        2            0.181818  0.090909  0.500000   \n",
      "4        5          3        3            0.090909  0.000000  1.000000   \n",
      "                    4        4            0.266667  0.133333  1.000000   \n",
      "                    5        5                 NaN       NaN  1.000000   \n",
      "                    6        6                 NaN       NaN  1.000000   \n",
      "\n",
      "                                          biop_status  \n",
      "study_gr study_gr1 Diag_cyt Diag_cyt_rev               \n",
      "1        1         -1       -1               4.000000  \n",
      "                    0        0               0.240517  \n",
      "2        2          0        0               0.137712  \n",
      "         3          0        1              14.250000  \n",
      "                             2              23.000000  \n",
      "                             4              22.000000  \n",
      "                             5              26.000000  \n",
      "3        4          1        1               6.524324  \n",
      "                    2        2              10.317073  \n",
      "4        5          3        3              21.114286  \n",
      "                    4        4              22.406250  \n",
      "                    5        5              20.000000  \n",
      "                    6        6              26.000000  \n",
      "    Age  study_gr  study_gr1  Diag_cyt  Diag_cyt_rev  SEE_01  SEE_16  SEE_18  \\\n",
      "0    34         1          1         0             0     0.0     0.0     0.0   \n",
      "1    31         1          1         0             0     0.0     0.0     0.0   \n",
      "2    25         1          1         0             0     0.0     0.0     0.0   \n",
      "3    33         1          1         0             0     0.0     0.0     0.0   \n",
      "4    27         1          1         0             0     0.0     0.0     0.0   \n",
      "..  ...       ...        ...       ...           ...     ...     ...     ...   \n",
      "95   33         1          1         0             0     0.0     0.0     0.0   \n",
      "96   30         1          1         0             0     0.0     0.0     0.0   \n",
      "97   29         1          1         0             0     0.0     0.0     0.0   \n",
      "98   26         1          1         0             0     0.0     0.0     0.0   \n",
      "99   30         1          1         0             0     0.0     0.0     0.0   \n",
      "\n",
      "    SEE_45  Ind_biop  biop_status  \n",
      "0      0.0         0           26  \n",
      "1      0.0         1           23  \n",
      "2      0.0         1           23  \n",
      "3      0.0         0           23  \n",
      "4      0.0         1           23  \n",
      "..     ...       ...          ...  \n",
      "95     0.0         1            4  \n",
      "96     0.0         1            4  \n",
      "97     0.0         1            4  \n",
      "98     0.0         0            4  \n",
      "99     0.0         1            4  \n",
      "\n",
      "[100 rows x 11 columns]\n"
     ]
    }
   ],
   "source": [
    "# Read the data from csv file\n",
    "\n",
    "data = pd.read_csv(\"Quality_control_cervical_cytology.csv\", delimiter='\\t', header=0)\n",
    "\n",
    "\"\"\" \n",
    "The following groupby() uses the features that all records have and use them as the key for \n",
    "a dict that will serve as a distribution dict used to fill missing mRNA values.\n",
    "Using the mean on binary values will yield probability that the missing values are 1 (pos) or 0 (neg).\n",
    "\"\"\"\n",
    "df_full = data.groupby(['study_gr', 'study_gr1', 'Diag_cyt', 'Diag_cyt_rev'])\n",
    "df_full_prob = df_full.mean()\n",
    "\n",
    "print(df_full_prob)\n",
    "# print(df_full_prob.keys())\n",
    "\n",
    "count = 0\n",
    "for i,row in data.iterrows():\n",
    "    if row[5] != row[5]: # to check NaN, row[5] is the first of mRNA feature, if NaN means the record is missing mRNA test values\n",
    "#         print(df_full_prob['SEE_01'][row[1]][row[2]][row[3]][row[4]])\n",
    "        # generate record specific probability of the four missing mRNA features\n",
    "        see_01_roll = random.uniform(0, 1)\n",
    "        see_16_roll = random.uniform(0, 1)\n",
    "        see_18_roll = random.uniform(0, 1)\n",
    "        see_45_roll = random.uniform(0, 1)\n",
    "        # index in to distribution based on respective keys and set value based on probability\n",
    "        see_01_val = 1 if see_01_roll < df_full_prob['SEE_01'][row[1]][row[2]][row[3]][row[4]] else 0\n",
    "        see_16_val = 1 if see_16_roll < df_full_prob['SEE_16'][row[1]][row[2]][row[3]][row[4]] else 0\n",
    "        see_18_val = 1 if see_18_roll < df_full_prob['SEE_18'][row[1]][row[2]][row[3]][row[4]] else 0\n",
    "        see_45_val = 1 if see_45_roll < df_full_prob['SEE_45'][row[1]][row[2]][row[3]][row[4]] else 0\n",
    "        # add to missing values to dataset\n",
    "        data.at[i,'SEE_01'] = see_01_val\n",
    "        data.at[i,'SEE_16'] = see_16_val\n",
    "        data.at[i,'SEE_18'] = see_18_val\n",
    "        data.at[i,'SEE_45'] = see_45_val\n",
    "        count += 1\n",
    "print(data.head(100))\n",
    "data.to_csv(r'filledmissing.csv') # save to a new csv that includes filled in missing mRNA values for a complete dataset\n"
   ]
  },
  {
   "cell_type": "markdown",
   "metadata": {},
   "source": [
    "### Separating Data set into dataonly and labels. Label bins grades of positive and negative into binary classification of simply positive and negative"
   ]
  },
  {
   "cell_type": "code",
   "execution_count": 27,
   "metadata": {},
   "outputs": [
    {
     "name": "stdout",
     "output_type": "stream",
     "text": [
      "(4366, 10)\n",
      "   Age  study_gr  study_gr1  Diag_cyt  Diag_cyt_rev  SEE_01  SEE_16  SEE_18  \\\n",
      "0   34         1          1         0             0     0.0     0.0     0.0   \n",
      "1   31         1          1         0             0     0.0     0.0     0.0   \n",
      "2   25         1          1         0             0     0.0     0.0     0.0   \n",
      "3   33         1          1         0             0     0.0     0.0     0.0   \n",
      "4   27         1          1         0             0     0.0     0.0     0.0   \n",
      "5   24         1          1         0             0     0.0     0.0     0.0   \n",
      "6   30         1          1         0             0     0.0     0.0     0.0   \n",
      "7   26         1          1         0             0     0.0     0.0     0.0   \n",
      "8   30         1          1         0             0     0.0     0.0     0.0   \n",
      "9   38         1          1         0             0     0.0     0.0     0.0   \n",
      "\n",
      "   SEE_45  Ind_biop  \n",
      "0     0.0         0  \n",
      "1     0.0         1  \n",
      "2     0.0         1  \n",
      "3     0.0         0  \n",
      "4     0.0         1  \n",
      "5     0.0         1  \n",
      "6     0.0         1  \n",
      "7     0.0         1  \n",
      "8     0.0         1  \n",
      "9     0.0         1  \n",
      "[1 1 1 ... 1 1 0]\n"
     ]
    }
   ],
   "source": [
    "\n",
    "dataonly = data.drop(['biop_status'], axis=1)\n",
    "# print(dataonly)\n",
    "labels = data['biop_status'].apply(lambda x: 1 if int(x) > 20 else 0).ravel()\n",
    "# labels = data['biop_status'].values.ravel()\n",
    "# print(labels)\n",
    "\n",
    "print(dataonly.shape)\n",
    "print(dataonly.head(10))\n",
    "print(labels)\n",
    "##################################################################################"
   ]
  },
  {
   "cell_type": "markdown",
   "metadata": {},
   "source": [
    "### Decision Trees & Cross Validation"
   ]
  },
  {
   "cell_type": "markdown",
   "metadata": {},
   "source": [
    "**Train/Test Split**"
   ]
  },
  {
   "cell_type": "code",
   "execution_count": 28,
   "metadata": {},
   "outputs": [
    {
     "name": "stdout",
     "output_type": "stream",
     "text": [
      "(3492, 10)\n",
      "(874, 10)\n",
      "(3492,)\n",
      "(874,)\n"
     ]
    }
   ],
   "source": [
    "from sklearn.model_selection import train_test_split  #, DecisionTreeClassifier\n",
    "train_x, test_x, train_y, test_y = train_test_split(dataonly, labels, test_size=0.2, random_state=42)\n",
    "print(train_x.shape)\n",
    "print(test_x.shape)\n",
    "print(train_y.shape)\n",
    "print(test_y.shape)\n"
   ]
  },
  {
   "cell_type": "code",
   "execution_count": 29,
   "metadata": {},
   "outputs": [
    {
     "name": "stdout",
     "output_type": "stream",
     "text": [
      "for random state=0 and using gini: 0.9553775743707094\n",
      "for random state=0 and using entropy: 0.9553775743707094\n",
      "for random state=42 and using gini: 0.954233409610984\n"
     ]
    }
   ],
   "source": [
    "from sklearn.tree import DecisionTreeClassifier\n",
    "from sklearn.metrics import accuracy_score\n",
    "\n",
    "dtree = DecisionTreeClassifier(random_state=0, criterion='gini') \n",
    "dtree.fit(train_x, train_y)\n",
    "prediction = dtree.predict(test_x)\n",
    "print(\"for random state=0 and using gini: {}\".format(accuracy_score(prediction, test_y)))\n",
    "dtree = DecisionTreeClassifier(random_state=0, criterion='entropy') \n",
    "dtree.fit(train_x, train_y)\n",
    "prediction = dtree.predict(test_x)\n",
    "print(\"for random state=0 and using entropy: {}\".format(accuracy_score(prediction, test_y)))\n",
    "dtree = DecisionTreeClassifier(random_state=42, criterion='gini') \n",
    "dtree.fit(train_x, train_y)\n",
    "prediction = dtree.predict(test_x)\n",
    "print(\"for random state=42 and using gini: {}\".format(accuracy_score(prediction, test_y)))\n"
   ]
  },
  {
   "cell_type": "markdown",
   "metadata": {},
   "source": [
    "**Cross Validation**"
   ]
  },
  {
   "cell_type": "code",
   "execution_count": 30,
   "metadata": {
    "scrolled": true
   },
   "outputs": [
    {
     "name": "stdout",
     "output_type": "stream",
     "text": [
      "[0.91324201 0.96118721 0.95881007 0.97254005 0.96559633 0.93577982\n",
      " 0.9587156  0.98165138 0.98623853 0.18348624]\n"
     ]
    }
   ],
   "source": [
    "from sklearn.model_selection import cross_val_score\n",
    "print(cross_val_score(dtree, dataonly, labels, cv=10, n_jobs=-1))"
   ]
  },
  {
   "cell_type": "markdown",
   "metadata": {},
   "source": [
    "**Nested Cross Validation**"
   ]
  },
  {
   "cell_type": "code",
   "execution_count": 31,
   "metadata": {},
   "outputs": [
    {
     "name": "stdout",
     "output_type": "stream",
     "text": [
      "The scikit-learn version is 0.21.3\n",
      "\n",
      "best parameters:\n",
      "max_depth: 10\n",
      "max_features: 6\n",
      "min_samples_leaf: 10\n",
      "\n",
      "best score: 0.9639175257731959\n"
     ]
    }
   ],
   "source": [
    "from sklearn.model_selection import GridSearchCV\n",
    "from sklearn import svm, datasets\n",
    "max_depth = [5,10,15,20]\n",
    "min_samples_leaf = [5,10,15,20]\n",
    "max_features = [2,4,6,8,10]\n",
    "param_grid = {'max_depth':max_depth, 'min_samples_leaf': min_samples_leaf, 'max_features':max_features}\n",
    "cv = 5\n",
    "dtreeGSCV = GridSearchCV(dtree,param_grid,cv=cv)\n",
    "dtreeGSCV.fit(train_x, train_y)\n",
    "print('The scikit-learn version is {}\\n'.format(sk.__version__))\n",
    "print(\"best parameters:\\nmax_depth: {}\\nmax_features: {}\\nmin_samples_leaf: {}\\n\".format(\\\n",
    "dtreeGSCV.best_params_['max_depth'],\\\n",
    "dtreeGSCV.best_params_['max_features'],\\\n",
    "dtreeGSCV.best_params_['min_samples_leaf']))\n",
    "print(\"best score: {}\".format(dtreeGSCV.best_score_))"
   ]
  },
  {
   "cell_type": "code",
   "execution_count": 32,
   "metadata": {},
   "outputs": [
    {
     "name": "stdout",
     "output_type": "stream",
     "text": [
      "[0.97142857 0.96857143 0.96275072 0.95988539 0.96848138 0.95415473\n",
      " 0.96848138 0.95702006 0.94842407 0.97707736]\n"
     ]
    }
   ],
   "source": [
    "print(cross_val_score(dtreeGSCV, train_x, train_y, cv=10, n_jobs=-1))"
   ]
  },
  {
   "cell_type": "markdown",
   "metadata": {},
   "source": [
    "### Naive Bayes & Evaluation Metrics"
   ]
  },
  {
   "cell_type": "code",
   "execution_count": 33,
   "metadata": {},
   "outputs": [
    {
     "name": "stdout",
     "output_type": "stream",
     "text": [
      "[0.94857143 0.92857143 0.9512894  0.94269341 0.94555874 0.92550143\n",
      " 0.93982808 0.9512894  0.93696275 0.94842407]\n"
     ]
    }
   ],
   "source": [
    "from sklearn.naive_bayes import GaussianNB # then cross_val_score\n",
    "modelNB = GaussianNB()\n",
    "modelNB.fit(train_x, train_y)\n",
    "print(cross_val_score(modelNB, train_x, train_y, cv=10, n_jobs=-1))\n"
   ]
  },
  {
   "cell_type": "code",
   "execution_count": 34,
   "metadata": {},
   "outputs": [
    {
     "name": "stdout",
     "output_type": "stream",
     "text": [
      "Confusion Matrix:\n",
      "[[3143  159]\n",
      " [  44  146]]\n",
      "\n",
      "Classification Report:\n",
      "              precision    recall  f1-score   support\n",
      "\n",
      "           0       0.99      0.95      0.97      3302\n",
      "           1       0.48      0.77      0.59       190\n",
      "\n",
      "    accuracy                           0.94      3492\n",
      "   macro avg       0.73      0.86      0.78      3492\n",
      "weighted avg       0.96      0.94      0.95      3492\n",
      "\n",
      "\n"
     ]
    }
   ],
   "source": [
    "from sklearn.metrics import confusion_matrix,classification_report\n",
    "from sklearn.model_selection import cross_val_predict\n",
    "\n",
    "\n",
    "predict = cross_val_predict(modelNB, train_x, train_y, cv=10, n_jobs=-1)\n",
    "true = train_y\n",
    "print(\"Confusion Matrix:\\n{}\\n\".format(confusion_matrix(true, predict)))\n",
    "print(\"Classification Report:\\n{}\\n\".format(classification_report(true, predict)))\n"
   ]
  },
  {
   "cell_type": "code",
   "execution_count": 35,
   "metadata": {},
   "outputs": [
    {
     "name": "stdout",
     "output_type": "stream",
     "text": [
      "roc_auc_score: 0.9470564074479737\n"
     ]
    },
    {
     "data": {
      "image/png": "[encoded data removed]",
      "text/plain": [
       "<Figure size 432x288 with 1 Axes>"
      ]
     },
     "metadata": {},
     "output_type": "display_data"
    }
   ],
   "source": [
    "from sklearn.metrics import roc_curve,roc_auc_score\n",
    "from sklearn.model_selection import train_test_split\n",
    "from sklearn.svm.libsvm import predict_proba\n",
    "# train_x, test_x, train_y, test_y split already above\n",
    "\n",
    "modelNB.fit(train_x, train_y)\n",
    "\n",
    "predict_proba_results = modelNB.predict_proba(test_x)\n",
    "# print(predict_proba_results)\n",
    "\n",
    "#replace these fpr and tpr with the results of your roc_curve\n",
    "fpr, tpr, thres = [], [], []\n",
    "fpr, tpr, thres = roc_curve(test_y, predict_proba_results[:,1])\n",
    "# print(predict_proba_results[:,1])\n",
    "# print((predict_proba_results))\n",
    "print(\"roc_auc_score: {}\".format(roc_auc_score(test_y, predict_proba_results[:,1])))\n",
    "# Do not change this code! This plots the ROC curve.\n",
    "# Just replace the fpr and tpr above with the values from your roc_curve\n",
    "plt.plot([0,1],[0,1],'k--') #plot the diagonal line\n",
    "plt.plot(fpr, tpr, label='NB') #plot the ROC curve\n",
    "plt.xlabel('fpr')\n",
    "plt.ylabel('tpr')\n",
    "plt.title('ROC Curve Naive Bayes')\n",
    "plt.show()"
   ]
  },
  {
   "cell_type": "markdown",
   "metadata": {},
   "source": [
    "### k-Nearest Neighbor (KNN)"
   ]
  },
  {
   "cell_type": "code",
   "execution_count": 36,
   "metadata": {},
   "outputs": [
    {
     "name": "stdout",
     "output_type": "stream",
     "text": [
      "[0.96137339 0.95851216 0.95702006 0.95845272 0.95845272]\n"
     ]
    }
   ],
   "source": [
    "from sklearn.preprocessing import StandardScaler\n",
    "from sklearn.decomposition import PCA\n",
    "from sklearn.neighbors import KNeighborsClassifier\n",
    "from sklearn.pipeline import Pipeline\n",
    "\n",
    "scaler = StandardScaler()\n",
    "pca = PCA()\n",
    "knc = KNeighborsClassifier(n_neighbors=7)\n",
    "pipe = Pipeline(steps=[('scaler', StandardScaler()), \n",
    "                       ('pca', PCA()), \n",
    "                       ('knc', KNeighborsClassifier(n_neighbors=7))])\n",
    "print(cross_val_score(pipe, train_x, train_y, cv=5, n_jobs=-1))"
   ]
  },
  {
   "cell_type": "code",
   "execution_count": 37,
   "metadata": {},
   "outputs": [
    {
     "name": "stdout",
     "output_type": "stream",
     "text": [
      "The scikit-learn version is 0.21.3\n",
      "\n",
      "best parameters:\n",
      "'pca_ncomponents': 7\n",
      "'knc_nneighbors': 3\n",
      "\n",
      "best score: 0.9621993127147767\n"
     ]
    }
   ],
   "source": [
    "'''\n",
    "On the \"pca\" part of the pipeline, \n",
    "tune the n_components parameter,\n",
    "by trying the values 1-19.\n",
    "\n",
    "On the \"knn\" part of the pipeline, \n",
    "tune the n_neighbors parameter,\n",
    "by trying the values 1-30.\n",
    "'''\n",
    "# print(pipe.get_params().keys())\n",
    "param_grid = {\n",
    "    'pca__n_components': list(range(2, 10)),\n",
    "    'knc__n_neighbors': list(range(1, 25))\n",
    "}\n",
    "cv = 5\n",
    "knnGSCV = GridSearchCV(pipe,param_grid,cv=cv)\n",
    "knnGSCV.fit(train_x, train_y)\n",
    "print('The scikit-learn version is {}\\n'.format(sk.__version__))\n",
    "print(\"best parameters:\\n'pca_ncomponents': {}\\n'knc_nneighbors': {}\\n\".format(\\\n",
    "knnGSCV.best_params_['pca__n_components'],\\\n",
    "knnGSCV.best_params_['knc__n_neighbors']))\n",
    "print(\"best score: {}\".format(knnGSCV.best_score_))\n",
    "\n"
   ]
  },
  {
   "cell_type": "code",
   "execution_count": 38,
   "metadata": {},
   "outputs": [
    {
     "name": "stdout",
     "output_type": "stream",
     "text": [
      "0.95904874339519\n"
     ]
    }
   ],
   "source": [
    "print(cross_val_score(knnGSCV, train_x, train_y, cv=5, n_jobs=-1).mean())"
   ]
  },
  {
   "cell_type": "markdown",
   "metadata": {},
   "source": [
    "### Support Vector Machine"
   ]
  },
  {
   "cell_type": "code",
   "execution_count": 39,
   "metadata": {},
   "outputs": [
    {
     "name": "stdout",
     "output_type": "stream",
     "text": [
      "Classification Report:\n",
      "              precision    recall  f1-score   support\n",
      "\n",
      "           0       0.99      0.95      0.97      3302\n",
      "           1       0.48      0.77      0.59       190\n",
      "\n",
      "    accuracy                           0.94      3492\n",
      "   macro avg       0.73      0.86      0.78      3492\n",
      "weighted avg       0.96      0.94      0.95      3492\n",
      "\n",
      "\n"
     ]
    }
   ],
   "source": [
    "from sklearn.svm import SVC\n",
    "\n",
    "ss = StandardScaler()\n",
    "svc = SVC(gamma='auto')\n",
    "\n",
    "scaled = ss.fit_transform(dataonly)\n",
    "\n",
    "pred = cross_val_predict(svc, scaled, labels, cv=10)\n",
    "\n",
    "print(\"Classification Report:\\n{}\\n\".format(classification_report(train_y, predict)))\n"
   ]
  },
  {
   "cell_type": "markdown",
   "metadata": {},
   "source": [
    "### Neural Network"
   ]
  },
  {
   "cell_type": "code",
   "execution_count": 40,
   "metadata": {},
   "outputs": [
    {
     "name": "stdout",
     "output_type": "stream",
     "text": [
      "best score: 0.9656357388316151\n"
     ]
    }
   ],
   "source": [
    "from sklearn.neural_network import MLPClassifier\n",
    "\n",
    "warnings.simplefilter(\"ignore\")\n",
    "scaler = StandardScaler()\n",
    "mlp = MLPClassifier()\n",
    "pipe = Pipeline(steps=[('scaler', StandardScaler()), \n",
    "                       ('mlp', MLPClassifier())])\n",
    "\n",
    "param_grid = {\n",
    "    'mlp__hidden_layer_sizes': list(range(30,60,10)),\n",
    "    'mlp__activation': ['logistic', 'tanh', 'relu']\n",
    "}\n",
    "\n",
    "cv = 5\n",
    "mlpGSCV = GridSearchCV(pipe,param_grid,cv=cv)\n",
    "mlpGSCV.fit(train_x, train_y)\n",
    "\n",
    "print(\"best score: {}\".format(mlpGSCV.best_score_))"
   ]
  },
  {
   "cell_type": "markdown",
   "metadata": {},
   "source": [
    "### Ensemble Classifiers"
   ]
  },
  {
   "cell_type": "code",
   "execution_count": 41,
   "metadata": {},
   "outputs": [
    {
     "name": "stdout",
     "output_type": "stream",
     "text": [
      "The scikit-learn version is 0.21.3\n",
      "\n",
      "best parameters:\n",
      "max_depth: 35\n",
      "max_features: sqrt\n",
      "min_samples_leaf: 10\n",
      "\n",
      "cross val score: [0.96137339 0.96280401 0.95988539 0.95415473 0.95988539]\n"
     ]
    }
   ],
   "source": [
    "from sklearn.ensemble import RandomForestClassifier\n",
    "\n",
    "max_depth = list(range(35,56))\n",
    "min_samples_leaf = [8, 10, 12]\n",
    "max_features = ['sqrt', 'log2']\n",
    "param_grid = {'max_depth':max_depth, 'min_samples_leaf': min_samples_leaf, 'max_features':max_features}\n",
    "cv = 5\n",
    "rfcGSCV = GridSearchCV(dtree,param_grid,cv=cv)\n",
    "rfcGSCV.fit(train_x, train_y)\n",
    "print('The scikit-learn version is {}\\n'.format(sk.__version__))\n",
    "print(\"best parameters:\\nmax_depth: {}\\nmax_features: {}\\nmin_samples_leaf: {}\\n\".format(\\\n",
    "rfcGSCV.best_params_['max_depth'],\\\n",
    "rfcGSCV.best_params_['max_features'],\\\n",
    "rfcGSCV.best_params_['min_samples_leaf']))\n",
    "print(\"cross val score: {}\".format(cross_val_score(rfcGSCV, train_x, train_y, cv=5, n_jobs=-1)))\n"
   ]
  },
  {
   "cell_type": "markdown",
   "metadata": {},
   "source": [
    "**AdaBoost**"
   ]
  },
  {
   "cell_type": "code",
   "execution_count": 42,
   "metadata": {},
   "outputs": [
    {
     "name": "stdout",
     "output_type": "stream",
     "text": [
      "0.964204286926473\n"
     ]
    }
   ],
   "source": [
    "from sklearn.ensemble import AdaBoostClassifier\n",
    "\n",
    "ada = AdaBoostClassifier(n_estimators=150, random_state=0)\n",
    "ada.fit(train_x, train_y)  \n",
    "print(cross_val_score(ada, train_x, train_y, cv=5, n_jobs=-1).mean())"
   ]
  },
  {
   "cell_type": "code",
   "execution_count": null,
   "metadata": {},
   "outputs": [],
   "source": []
  }
 ],
 "metadata": {
  "kernelspec": {
   "display_name": "Python 3",
   "language": "python",
   "name": "python3"
  },
  "language_info": {
   "codemirror_mode": {
    "name": "ipython",
    "version": 3
   },
   "file_extension": ".py",
   "mimetype": "text/x-python",
   "name": "python",
   "nbconvert_exporter": "python",
   "pygments_lexer": "ipython3",
   "version": "3.6.1"
  }
 },
 "nbformat": 4,
 "nbformat_minor": 2
}
